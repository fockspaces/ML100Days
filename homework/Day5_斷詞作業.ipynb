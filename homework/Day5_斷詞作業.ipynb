{
 "cells": [
  {
   "cell_type": "markdown",
   "metadata": {},
   "source": [
    "## 作業目標: 了解斷詞演算法的背後計算"
   ]
  },
  {
   "cell_type": "markdown",
   "metadata": {},
   "source": [
    "### 根據課程講述的內容, 請計算出下列剩餘所有情況的\n",
    "若有一個人連續觀察到三天水草都是乾燥的(Dry), 則這三天的天氣機率為何？(可參考講義第13頁)\n",
    "(Hint: 共有8種可能機率)\n",
    "\n",
    "```python\n",
    "states = ('sunny', 'rainy')\n",
    "observations = ('dry', 'damp', 'soggy')\n",
    "start_probability = {'sunny': 0.4, 'rainy': 0.6}\n",
    "transition_probability = {'sunny':{'sunny':0.6, 'rainy':0.4},\n",
    "                          'rainy': {'sunny':0.3, 'rainy':0.7}}\n",
    "emission_probatility = {'sunny': {'dry':0.6, 'damp':0.3, 'soggy':0.1},\n",
    "                        'rainy': {'dry':0.1, 'damp':0.4, 'soggy':0.5}}\n",
    "```"
   ]
  },
  {
   "cell_type": "markdown",
   "metadata": {},
   "source": [
    "```\n",
    "觀察狀態 = 'dry', 'dry', 'dry'\n",
    "Sunny, Sunny, Sunny: 0.4*(0.6)*0.6*(0.6)*0.6*(0.6) = 0.031104\n",
    "Rainy, Sunny, Sunny: 0.6*(0.1)*0.3*(0.6)*0.6*(0.6) = 0.003888\n",
    "###<your answers>###\n",
    "Sunny, Rainy, Sunny: 0.4*(0.6)*0.4*(0.1)*0.6*(0.1)\n",
    "Rainy, Rainy, Sunny: 0.6*(0.1)*0.7*(0.1)*0.6*(0.1)\n",
    "\n",
    "Sunny, Rainy, Rainy: 0.4*(0.6)*0.4*(0.1)*0.7*(0.1)\n",
    "Rainy, Rainy, Rainy: 0.6*(0.1)*0.7*(0.1)*0.7*(0.1)\n",
    "\n",
    "Sunny, Sunny, Rainy: 0.4*(0.6)*0.6*(0.6)*0.4*(0.1)\n",
    "Rainy, Sunny, Rainy: 0.6*(0.1)*0.3*(0.6)*0.4*(0.1)\n",
    "\n",
    "\n",
    "最大機率為: Sunny, Sunny, Sunny\n",
    "```"
   ]
  },
  {
   "cell_type": "markdown",
   "metadata": {},
   "source": [
    "### 根據上述條件, 寫出Viterbi應用程式"
   ]
  },
  {
   "cell_type": "code",
   "execution_count": 12,
   "metadata": {},
   "outputs": [],
   "source": [
    "observations = ('dry', 'dry', 'dry') #實際上觀察到的狀態為dry, dry, dry\n",
    "states = ('sunny', 'rainy')\n",
    "start_probability = {'sunny': 0.4, 'rainy': 0.6}\n",
    "transition_probability = {'sunny':{'sunny':0.6, 'rainy':0.4},\n",
    "                          'rainy': {'sunny':0.3, 'rainy':0.7}}\n",
    "emission_probatility = {'sunny': {'dry':0.6, 'damp':0.3, 'soggy':0.1},\n",
    "                        'rainy': {'dry':0.1, 'damp':0.4, 'soggy':0.5}}"
   ]
  },
  {
   "cell_type": "code",
   "execution_count": 13,
   "metadata": {},
   "outputs": [],
   "source": [
    "def viterbi(obs, states, start_p, trans_p, emit_p):\n",
    "    import numpy as np\n",
    "    V = [{}]\n",
    "    path = {}\n",
    "    max_p = np.zeros((len(obs), len(states)))\n",
    "    # Initialize base cases (t == 0)\n",
    "    for y in states:\n",
    "        ###<your codes>###\n",
    "        V[0][y] = start_p[y] * emit_p[y][obs[0]]\n",
    "        path[y][0] = y \n",
    "        # Run Viterbi for t > 0\n",
    "    for t in range(1,len(obs)):\n",
    "        ###<your codes>###\n",
    "        newpath = np.zeros((len(states), len(obs)))\n",
    "        for y in range(len(states)):\n",
    "            prob = -1\n",
    "            for y0 in range(len(states)):\n",
    "                nprob = max_p[t-1][y0] * trans_p[y0][y] * emit_p[y][obs[t]]\n",
    "                if nprob > prob:\n",
    "                    prob = nprob\n",
    "                    state = y0\n",
    "                    #   记录路径\n",
    "                    max_p[t][y] = prob\n",
    "                    for m in range(t):\n",
    "                        newpath[y][m] = path[state][m]\n",
    "                    newpath[y][t] = y\n",
    "        # Don't need to remember the old paths\n",
    "        path = newpath\n",
    "    \n",
    "    (prob, state) = max([(V[len(obs) - 1][final_state], final_state) for final_state in states])\n",
    "    return (prob, path[state])"
   ]
  },
  {
   "cell_type": "code",
   "execution_count": 14,
   "metadata": {},
   "outputs": [
    {
     "ename": "KeyError",
     "evalue": "'sunny'",
     "output_type": "error",
     "traceback": [
      "\u001b[1;31m---------------------------------------------------------------------------\u001b[0m",
      "\u001b[1;31mKeyError\u001b[0m                                  Traceback (most recent call last)",
      "\u001b[1;32m<ipython-input-14-e01d8c67178b>\u001b[0m in \u001b[0;36m<module>\u001b[1;34m\u001b[0m\n\u001b[1;32m----> 1\u001b[1;33m result = viterbi(observations,\n\u001b[0m\u001b[0;32m      2\u001b[0m                  \u001b[0mstates\u001b[0m\u001b[1;33m,\u001b[0m\u001b[1;33m\u001b[0m\u001b[1;33m\u001b[0m\u001b[0m\n\u001b[0;32m      3\u001b[0m                  \u001b[0mstart_probability\u001b[0m\u001b[1;33m,\u001b[0m\u001b[1;33m\u001b[0m\u001b[1;33m\u001b[0m\u001b[0m\n\u001b[0;32m      4\u001b[0m                  \u001b[0mtransition_probability\u001b[0m\u001b[1;33m,\u001b[0m\u001b[1;33m\u001b[0m\u001b[1;33m\u001b[0m\u001b[0m\n\u001b[0;32m      5\u001b[0m                  emission_probatility)\n",
      "\u001b[1;32m<ipython-input-13-fd857d20a4b5>\u001b[0m in \u001b[0;36mviterbi\u001b[1;34m(obs, states, start_p, trans_p, emit_p)\u001b[0m\n\u001b[0;32m      8\u001b[0m         \u001b[1;31m###<your codes>###\u001b[0m\u001b[1;33m\u001b[0m\u001b[1;33m\u001b[0m\u001b[1;33m\u001b[0m\u001b[0m\n\u001b[0;32m      9\u001b[0m         \u001b[0mV\u001b[0m\u001b[1;33m[\u001b[0m\u001b[1;36m0\u001b[0m\u001b[1;33m]\u001b[0m\u001b[1;33m[\u001b[0m\u001b[0my\u001b[0m\u001b[1;33m]\u001b[0m \u001b[1;33m=\u001b[0m \u001b[0mstart_p\u001b[0m\u001b[1;33m[\u001b[0m\u001b[0my\u001b[0m\u001b[1;33m]\u001b[0m \u001b[1;33m*\u001b[0m \u001b[0memit_p\u001b[0m\u001b[1;33m[\u001b[0m\u001b[0my\u001b[0m\u001b[1;33m]\u001b[0m\u001b[1;33m[\u001b[0m\u001b[0mobs\u001b[0m\u001b[1;33m[\u001b[0m\u001b[1;36m0\u001b[0m\u001b[1;33m]\u001b[0m\u001b[1;33m]\u001b[0m\u001b[1;33m\u001b[0m\u001b[1;33m\u001b[0m\u001b[0m\n\u001b[1;32m---> 10\u001b[1;33m         \u001b[0mpath\u001b[0m\u001b[1;33m[\u001b[0m\u001b[0my\u001b[0m\u001b[1;33m]\u001b[0m\u001b[1;33m[\u001b[0m\u001b[1;36m0\u001b[0m\u001b[1;33m]\u001b[0m \u001b[1;33m=\u001b[0m \u001b[0my\u001b[0m\u001b[1;33m\u001b[0m\u001b[1;33m\u001b[0m\u001b[0m\n\u001b[0m\u001b[0;32m     11\u001b[0m         \u001b[1;31m# Run Viterbi for t > 0\u001b[0m\u001b[1;33m\u001b[0m\u001b[1;33m\u001b[0m\u001b[1;33m\u001b[0m\u001b[0m\n\u001b[0;32m     12\u001b[0m     \u001b[1;32mfor\u001b[0m \u001b[0mt\u001b[0m \u001b[1;32min\u001b[0m \u001b[0mrange\u001b[0m\u001b[1;33m(\u001b[0m\u001b[1;36m1\u001b[0m\u001b[1;33m,\u001b[0m\u001b[0mlen\u001b[0m\u001b[1;33m(\u001b[0m\u001b[0mobs\u001b[0m\u001b[1;33m)\u001b[0m\u001b[1;33m)\u001b[0m\u001b[1;33m:\u001b[0m\u001b[1;33m\u001b[0m\u001b[1;33m\u001b[0m\u001b[0m\n",
      "\u001b[1;31mKeyError\u001b[0m: 'sunny'"
     ]
    }
   ],
   "source": [
    "result = viterbi(observations,\n",
    "                 states,\n",
    "                 start_probability,\n",
    "                 transition_probability,\n",
    "                 emission_probatility)"
   ]
  },
  {
   "cell_type": "code",
   "execution_count": null,
   "metadata": {},
   "outputs": [],
   "source": [
    "result"
   ]
  }
 ],
 "metadata": {
  "kernelspec": {
   "display_name": "Python 3",
   "language": "python",
   "name": "python3"
  },
  "language_info": {
   "codemirror_mode": {
    "name": "ipython",
    "version": 3
   },
   "file_extension": ".py",
   "mimetype": "text/x-python",
   "name": "python",
   "nbconvert_exporter": "python",
   "pygments_lexer": "ipython3",
   "version": "3.8.3"
  }
 },
 "nbformat": 4,
 "nbformat_minor": 2
}
